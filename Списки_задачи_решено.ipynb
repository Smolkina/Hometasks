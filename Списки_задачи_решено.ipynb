{
 "cells": [
  {
   "cell_type": "code",
   "execution_count": 1,
   "metadata": {},
   "outputs": [
    {
     "name": "stdout",
     "output_type": "stream",
     "text": [
      "[31, 24, 17]\n",
      "[31, 24, 17]\n",
      "[31, 24, 17]\n"
     ]
    }
   ],
   "source": [
    "#Задача_1\n",
    "a = [31, 24, 17]\n",
    "print(a)\n",
    "b = list (a)\n",
    "print(b)\n",
    "c = list(range(31, 16, -7))\n",
    "print(c)"
   ]
  },
  {
   "cell_type": "code",
   "execution_count": 5,
   "metadata": {
    "scrolled": true
   },
   "outputs": [
    {
     "name": "stdout",
     "output_type": "stream",
     "text": [
      "asdfgh\n",
      "['a', 's', 'd', 'f', 'g', 'h']\n"
     ]
    }
   ],
   "source": [
    "#Задача_2.1\n",
    "a = input()\n",
    "print(list(a))"
   ]
  },
  {
   "cell_type": "code",
   "execution_count": null,
   "metadata": {},
   "outputs": [],
   "source": [
    "#Задача_2.2\n",
    "a = input().split()\n",
    "print(a)"
   ]
  },
  {
   "cell_type": "code",
   "execution_count": 18,
   "metadata": {},
   "outputs": [
    {
     "name": "stdout",
     "output_type": "stream",
     "text": [
      "4657ghy7\n",
      "[4, 6, 5, 7, 7]\n"
     ]
    }
   ],
   "source": [
    "#Задача_2.3\n",
    "a = list()\n",
    "for i in input():\n",
    "    if i in '0123456789':\n",
    "            a.append(int(i))\n",
    "print(a)"
   ]
  },
  {
   "cell_type": "code",
   "execution_count": 19,
   "metadata": {},
   "outputs": [
    {
     "name": "stdout",
     "output_type": "stream",
     "text": [
      "['append', 'split', 'append', 'split', 'append', 'split', 'append', 'split', 'repeat', 4]\n"
     ]
    }
   ],
   "source": [
    "#Задача_3\n",
    "a = ['append', 'split', 'repeat', 4]\n",
    "if 'repeat' in a and type(a[-1])== int:\n",
    "    b = a[:-2]*a[-1]+a[-2:]\n",
    "print(b)"
   ]
  },
  {
   "cell_type": "code",
   "execution_count": 20,
   "metadata": {},
   "outputs": [
    {
     "name": "stdout",
     "output_type": "stream",
     "text": [
      "asd\n",
      "rtyui\n",
      "строка asd идет ДО строки rtyui\n"
     ]
    }
   ],
   "source": [
    "#Задача_4\n",
    "s1 = input() \n",
    "s2 = input() \n",
    "output = 'length' \n",
    "b = [s1, s2, len(s1), len(s2), s1>s2] \n",
    "if output == 'lenght': \n",
    "    print ('Длины строк: {b[2]} и {b[3]}') \n",
    "if output == 'order' and c[-1]:\n",
    "    c = \"ПОСЛЕ\" \n",
    "else: \n",
    "    c = \"ДО\" \n",
    "print ('строка',s1, 'идет', c, 'строки', s2)"
   ]
  },
  {
   "cell_type": "code",
   "execution_count": 25,
   "metadata": {},
   "outputs": [
    {
     "name": "stdout",
     "output_type": "stream",
     "text": [
      "Максимальное значение:4\n",
      "Количество повторений:7\n",
      "[1, 2, 3, 4, 1, 2, 3, 4, 1, 2, 3, 4, 1, 2, 3, 4, 1, 2, 3, 4, 1, 2, 3, 4, 1, 2, 3, 4]\n"
     ]
    }
   ],
   "source": [
    "#Задача_5\n",
    "max_val = int(input(\"Максимальное значение:\"))\n",
    "repeat = int(input(\"Количество повторений:\"))\n",
    "a = list(range(1, max_val+1))*repeat\n",
    "print(a)"
   ]
  },
  {
   "cell_type": "code",
   "execution_count": 26,
   "metadata": {},
   "outputs": [
    {
     "name": "stdout",
     "output_type": "stream",
     "text": [
      "a s d\n",
      "l k n\n",
      "a l s k d n\n"
     ]
    }
   ],
   "source": [
    "#Задача_8\n",
    "a = input()\n",
    "b = input()\n",
    "a = a.split() \n",
    "b = b.split() \n",
    "lenght = len(a) if len(a) < len(b) else len(b)\n",
    "c =[]\n",
    "for i in range(lenght):\n",
    "    c.append(a[i])\n",
    "    c.append(b[i])\n",
    "c = ' '.join(c)\n",
    "print(c)\n"
   ]
  },
  {
   "cell_type": "code",
   "execution_count": 31,
   "metadata": {},
   "outputs": [
    {
     "name": "stdout",
     "output_type": "stream",
     "text": [
      "a s d\n",
      "l k n\n",
      "alskdn\n"
     ]
    }
   ],
   "source": [
    "#Задача_9\n",
    "a = input() \n",
    "b = input()\n",
    "a = a.split() \n",
    "b = b.split() \n",
    "c = list(zip(a, b)) \n",
    "x = \"\" \n",
    "for i in c: \n",
    "    x += '{}{}'.format(*i)\n",
    "print(x)"
   ]
  },
  {
   "cell_type": "code",
   "execution_count": 34,
   "metadata": {},
   "outputs": [
    {
     "name": "stdout",
     "output_type": "stream",
     "text": [
      "2\n",
      "['ou', 'oy', 'op', 'oi', 'ok']\n"
     ]
    }
   ],
   "source": [
    "#Задача_10\n",
    "a = [\"oi\",\"ok\",\"ou\", \"oy\",\"op\"]\n",
    "b = int(input())\n",
    "for i in range(0, b):\n",
    "    c = a[0]\n",
    "    a.append(c)\n",
    "    del a[0]\n",
    "print (a)"
   ]
  },
  {
   "cell_type": "code",
   "execution_count": null,
   "metadata": {},
   "outputs": [],
   "source": []
  }
 ],
 "metadata": {
  "kernelspec": {
   "display_name": "Python 3",
   "language": "python",
   "name": "python3"
  },
  "language_info": {
   "codemirror_mode": {
    "name": "ipython",
    "version": 3
   },
   "file_extension": ".py",
   "mimetype": "text/x-python",
   "name": "python",
   "nbconvert_exporter": "python",
   "pygments_lexer": "ipython3",
   "version": "3.8.5"
  }
 },
 "nbformat": 4,
 "nbformat_minor": 4
}
