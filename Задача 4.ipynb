{
 "cells": [
  {
   "cell_type": "code",
   "execution_count": 2,
   "metadata": {},
   "outputs": [
    {
     "name": "stdout",
     "output_type": "stream",
     "text": [
      "Введите a =2\n",
      "Введите b =20\n",
      "Простое число: 3\n",
      "Простое число: 5\n",
      "Простое число: 7\n",
      "Простое число: 11\n",
      "Простое число: 13\n",
      "Простое число: 17\n",
      "Простое число: 19\n"
     ]
    }
   ],
   "source": [
    "a = int(input(\"Введите a =\"))\n",
    "b = int(input(\"Введите b =\"))\n",
    "for i in range(a+1, b+1):\n",
    "    if i>1:\n",
    "        for k in range(2, i):\n",
    "            if i%k == 0:\n",
    "                break\n",
    "        else:\n",
    "            print(\"Простое число:\",i)\n"
   ]
  },
  {
   "cell_type": "code",
   "execution_count": null,
   "metadata": {},
   "outputs": [],
   "source": []
  }
 ],
 "metadata": {
  "kernelspec": {
   "display_name": "Python 3",
   "language": "python",
   "name": "python3"
  },
  "language_info": {
   "codemirror_mode": {
    "name": "ipython",
    "version": 3
   },
   "file_extension": ".py",
   "mimetype": "text/x-python",
   "name": "python",
   "nbconvert_exporter": "python",
   "pygments_lexer": "ipython3",
   "version": "3.8.5"
  }
 },
 "nbformat": 4,
 "nbformat_minor": 4
}
