{
 "cells": [
  {
   "cell_type": "code",
   "execution_count": 1,
   "metadata": {},
   "outputs": [
    {
     "name": "stdout",
     "output_type": "stream",
     "text": [
      "Hello world!\n",
      "HERD\n",
      "1 символ встречается в строке поиска: Herd\n",
      "2 символ встречается в строке поиска: hErd\n",
      "9 символ встречается в строке поиска: heRd\n",
      "11 символ встречается в строке поиска: herD\n"
     ]
    }
   ],
   "source": [
    "a = input()\n",
    "b = input().lower()\n",
    "was = []\n",
    "for i in range(len(a)):\n",
    "    if a[i].lower() in b and a[i].lower() not in was:\n",
    "        print(f'{i + 1} символ встречается в строке поиска: {b.replace(a[i].lower(), a[i].upper())}')\n",
    "        was.append(a[i].lower())"
   ]
  },
  {
   "cell_type": "code",
   "execution_count": null,
   "metadata": {},
   "outputs": [],
   "source": []
  }
 ],
 "metadata": {
  "kernelspec": {
   "display_name": "Python 3",
   "language": "python",
   "name": "python3"
  },
  "language_info": {
   "codemirror_mode": {
    "name": "ipython",
    "version": 3
   },
   "file_extension": ".py",
   "mimetype": "text/x-python",
   "name": "python",
   "nbconvert_exporter": "python",
   "pygments_lexer": "ipython3",
   "version": "3.8.5"
  }
 },
 "nbformat": 4,
 "nbformat_minor": 4
}
